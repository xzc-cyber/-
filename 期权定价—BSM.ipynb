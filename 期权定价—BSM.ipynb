{
 "cells": [
  {
   "cell_type": "code",
   "execution_count": 1,
   "metadata": {},
   "outputs": [],
   "source": [
    "import pandas as pd\n",
    "import numpy as np\n",
    "import matplotlib.pyplot as plt\n",
    "from scipy.stats import norm\n",
    "from scipy import integrate\n",
    "import warnings\n",
    "warnings.filterwarnings('ignore')"
   ]
  },
  {
   "cell_type": "code",
   "execution_count": 2,
   "metadata": {},
   "outputs": [],
   "source": [
    "# 看涨或看跌期权的BSM\n",
    "def BSM(S,K,r,sigma,T,q=0,label='call'):\n",
    "    \"\"\"\n",
    "    S:t=0时刻的股价\n",
    "    K:执行价格\n",
    "    r:无风险利率\n",
    "    sigma:波动率\n",
    "    T:到期时间\n",
    "    q:分红率\n",
    "    \n",
    "    \"\"\"\n",
    "    d1 = (np.log(S/K)+(r-q+pow(sigma,2)/2)*T)/(sigma*np.sqrt(T))\n",
    "    d2 = (np.log(S/K)+(r-q-pow(sigma,2)/2)*T)/(sigma*np.sqrt(T))\n",
    "    c = S*np.exp(-q*T)*norm.cdf(d1)-K*np.exp(-r*T)*norm.cdf(d2)\n",
    "    p = K*np.exp(-r*T)*norm.cdf(-d2)-S*np.exp(-q*T)*norm.cdf(-d1)\n",
    "    if label == 'call':\n",
    "        return c\n",
    "    elif label == 'put':\n",
    "        return p"
   ]
  },
  {
   "cell_type": "code",
   "execution_count": 14,
   "metadata": {},
   "outputs": [],
   "source": [
    "# 一般未定权益\n",
    "def BSM_2(f,S,K,r,sigma,T,q=0):\n",
    "    \"\"\"\n",
    "    f:期权到期日价值关于标的资产价格的函数\n",
    "    S:t=0时刻的股价\n",
    "    K:执行价格\n",
    "    r:无风险利率\n",
    "    sigma:波动率\n",
    "    T:到期时间\n",
    "    q:分红率\n",
    "    \n",
    "    \"\"\"\n",
    "    pdf = lambda x:1/np.sqrt(2*np.pi)*np.exp(-x**2/2)  # 标准正态分布概率密度函数\n",
    "    S_T = lambda x:S*np.exp((r-q-1/2*sigma**2)*T+sigma*np.sqrt(T)*x)  # 到期日股价函数\n",
    "    func = lambda x:f(S_T(x))*pdf(x)  # 被积函数\n",
    "    x_list = np.linspace(-2,10,100)\n",
    "    y_list = [func(x) for x in x_list]\n",
    "    #plt.plot(x_list,y_list)\n",
    "    # 未定权益到期日价值的期望(这里将上下限设为100是由于设为无穷会报错,因此根据绘制的被积函数曲线选择合适的积分区间)\n",
    "    V_T = integrate.quad(func,-100,100)[0]  \n",
    "    return np.exp(-r*T)*V_T"
   ]
  },
  {
   "cell_type": "code",
   "execution_count": 15,
   "metadata": {},
   "outputs": [],
   "source": [
    "K = 2400\n",
    "T = 1.5\n",
    "S = 35\n",
    "sigma = 0.42\n",
    "r = 0.0255\n",
    "f = lambda x:x**2"
   ]
  },
  {
   "cell_type": "code",
   "execution_count": 16,
   "metadata": {},
   "outputs": [
    {
     "data": {
      "text/plain": [
       "1658.2964558166627"
      ]
     },
     "execution_count": 16,
     "metadata": {},
     "output_type": "execute_result"
    },
    {
     "data": {
      "image/png": "[encoded data removed]",
      "text/plain": [
       "<Figure size 432x288 with 1 Axes>"
      ]
     },
     "metadata": {
      "needs_background": "light"
     },
     "output_type": "display_data"
    }
   ],
   "source": [
    "BSM_2(f,S,K,r,sigma,T,q=0)"
   ]
  },
  {
   "cell_type": "code",
   "execution_count": 1,
   "metadata": {},
   "outputs": [],
   "source": []
  }
 ],
 "metadata": {
  "kernelspec": {
   "display_name": "Python 3",
   "language": "python",
   "name": "python3"
  },
  "language_info": {
   "codemirror_mode": {
    "name": "ipython",
    "version": 3
   },
   "file_extension": ".py",
   "mimetype": "text/x-python",
   "name": "python",
   "nbconvert_exporter": "python",
   "pygments_lexer": "ipython3",
   "version": "3.7.4"
  }
 },
 "nbformat": 4,
 "nbformat_minor": 2
}
