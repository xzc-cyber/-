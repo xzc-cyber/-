{
 "cells": [
  {
   "cell_type": "code",
   "execution_count": 1,
   "metadata": {},
   "outputs": [],
   "source": [
    "import pandas as pd\n",
    "import numpy as np"
   ]
  },
  {
   "cell_type": "code",
   "execution_count": 2,
   "metadata": {},
   "outputs": [],
   "source": [
    "# 欧式看涨期权二叉树\n",
    "def binarytree_eurocall(S,K,r,T,sigma=None,q=0,steps=2,ud=None):\n",
    "\n",
    "    '''\n",
    "    S:标的资产初始价格;\n",
    "    K:期权的执行价格;\n",
    "    r:年化无风险利率;\n",
    "    q:连续分红的红利率,默认不分红;\n",
    "    sigma:标的资产连续复利收益率的标准差;\n",
    "    T:以年表示的时间长度;\n",
    "    steps:二叉树的步长\n",
    "    '''\n",
    "    t = T/steps   # 每一步的期间长度\n",
    "    if ud == None:\n",
    "        u = np.exp(sigma*np.sqrt(t))  # 上行乘数\n",
    "        d = 1/u  # 下行乘数\n",
    "    else:\n",
    "        u = ud[0]\n",
    "        d = ud[1]\n",
    "    P = (np.exp((r-q)*t)-d)/(u-d)  # 股价上行的风险中性概率\n",
    "    print('风险中性概率为:',P)\n",
    "    stock_prices = np.zeros(shape=(steps+1,steps+1)) # 生成最后一列的股票价格空数组\n",
    "    stock_prices[0][0] = S\n",
    "    for i in range(1,steps+1):\n",
    "        for j in range(0,i+1):\n",
    "            stock_prices[j][i] = S*pow(u,i-j)*pow(d,j)\n",
    "    print('股价二叉树:')\n",
    "    print(stock_prices)\n",
    "    option_prices = np.zeros(shape=(steps+1,steps+1))\n",
    "    option_prices[:,-1] = list(map(lambda x:max(x,0),stock_prices[:,-1]-K))  # 到期日价值\n",
    "    for i in range(steps-1,-1,-1):\n",
    "        for j in range(0,i+1):\n",
    "            option_prices[j][i] = np.exp(-(r-q)*t)*(P*option_prices[j,i+1]+(1-P)*option_prices[j+1,i+1])\n",
    "    print('期权二叉树:')\n",
    "    print(option_prices)\n",
    "    print('根据%d期二叉树模型确定的欧式看涨期权价格为%.2f'%(steps,option_prices[0][0]))"
   ]
  },
  {
   "cell_type": "code",
   "execution_count": 3,
   "metadata": {},
   "outputs": [
    {
     "name": "stdout",
     "output_type": "stream",
     "text": [
      "风险中性概率为: 0.5478008633610615\n",
      "股价二叉树:\n",
      "[[ 980. 1200.]\n",
      " [   0.  720.]]\n",
      "期权二叉树:\n",
      "[[109.23198468 200.        ]\n",
      " [  0.           0.        ]]\n",
      "根据1期二叉树模型确定的欧式看涨期权价格为109.23\n"
     ]
    }
   ],
   "source": [
    "binarytree_eurocall(S=980,K=1000,r=0.006,sigma=0.2,T=0.5,q=0,steps=1,ud=[1200/980,720/980])"
   ]
  },
  {
   "cell_type": "code",
   "execution_count": 4,
   "metadata": {},
   "outputs": [],
   "source": [
    "# 欧式看跌期权二叉树\n",
    "def binarytree_europut(S,K,r,T,sigma=None,q=0,steps=2,ud=None):\n",
    "\n",
    "    '''\n",
    "    S:标的资产初始价格;\n",
    "    K:期权的执行价格;\n",
    "    r:年化无风险利率;\n",
    "    q:连续分红的红利率,默认不分红;\n",
    "    sigma:标的资产连续复利收益率的标准差;\n",
    "    T:以年表示的时间长度;\n",
    "    steps:二叉树的步长\n",
    "    '''\n",
    "    t = T/steps   # 每一步的期间长度\n",
    "    if ud == None:\n",
    "        u = np.exp(sigma*np.sqrt(t))  # 上行乘数\n",
    "        d = 1/u  # 下行乘数\n",
    "    else:\n",
    "        u = ud[0]\n",
    "        d = ud[1]\n",
    "    P = (np.exp((r-q)*t)-d)/(u-d)  # 股价上行的风险中性概率\n",
    "    print('风险中性概率为:',P)\n",
    "    stock_prices = np.zeros(shape=(steps+1,steps+1)) # 生成最后一列的股票价格空数组\n",
    "    stock_prices[0][0] = S\n",
    "    for i in range(1,steps+1):\n",
    "        for j in range(0,i+1):\n",
    "            stock_prices[j][i] = S*pow(u,i-j)*pow(d,j)\n",
    "    print('股价二叉树:')\n",
    "    print(stock_prices)\n",
    "    option_prices = np.zeros(shape=(steps+1,steps+1))\n",
    "    option_prices[:,-1] = list(map(lambda x:max(x,0),K-stock_prices[:,-1]))  # 到期日价值\n",
    "    for i in range(steps-1,-1,-1):\n",
    "        for j in range(0,i+1):\n",
    "            option_prices[j][i] = np.exp(-(r-q)*t)*(P*option_prices[j,i+1]+(1-P)*option_prices[j+1,i+1])\n",
    "    print('期权二叉树:')\n",
    "    print(option_prices)\n",
    "    print('根据%d期二叉树模型确定的欧式看跌期权价格为%.2f'%(steps,option_prices[0][0]))"
   ]
  },
  {
   "cell_type": "code",
   "execution_count": 6,
   "metadata": {},
   "outputs": [
    {
     "name": "stdout",
     "output_type": "stream",
     "text": [
      "风险中性概率为: 0.7136295682334335\n",
      "股价二叉树:\n",
      "[[100.   112.   125.44]\n",
      " [  0.    88.    98.56]\n",
      " [  0.     0.    77.44]]\n",
      "期权二叉树:\n",
      "[[ 4.4267623   1.75428164  0.        ]\n",
      " [ 0.         11.87908957  6.44      ]\n",
      " [ 0.          0.         27.56      ]]\n",
      "根据2期二叉树模型确定的欧式看跌期权价格为4.43\n"
     ]
    }
   ],
   "source": [
    "binarytree_europut(S=100,K=105,r=0.05,T=2,q=0,steps=2,ud=[1.12,0.88])"
   ]
  },
  {
   "cell_type": "code",
   "execution_count": 40,
   "metadata": {},
   "outputs": [],
   "source": [
    "# 美式看涨期权二叉树\n",
    "def binarytree_Americancall(S,K,r,T,sigma=None,q=0,steps=2,ud=None):\n",
    "\n",
    "    '''\n",
    "    S:标的资产初始价格;\n",
    "    K:期权的执行价格;\n",
    "    r:年化无风险利率;\n",
    "    q:连续分红的红利率,默认不分红;\n",
    "    sigma:标的资产连续复利收益率的标准差;\n",
    "    T:以年表示的时间长度;\n",
    "    steps:二叉树的步长\n",
    "    '''\n",
    "    t = T/steps   # 每一步的期间长度\n",
    "    if ud == None:\n",
    "        u = np.exp(sigma*np.sqrt(t))  # 上行乘数\n",
    "        d = 1/u  # 下行乘数\n",
    "    else:\n",
    "        u = ud[0]\n",
    "        d = ud[1]\n",
    "    P = (np.exp((r-q)*t)-d)/(u-d)  # 股价上行的风险中性概率\n",
    "    print('风险中性概率为:',P)\n",
    "    stock_prices = np.zeros(shape=(steps+1,steps+1)) # 生成最后一列的股票价格空数组\n",
    "    stock_prices[0][0] = S\n",
    "    for i in range(1,steps+1):\n",
    "        for j in range(0,i+1):\n",
    "            stock_prices[j][i] = S*pow(u,i-j)*pow(d,j)\n",
    "    print('股价二叉树:')\n",
    "    print(stock_prices)\n",
    "    option_prices = np.zeros(shape=(steps+1,steps+1))\n",
    "    option_prices[:,-1] = list(map(lambda x:max(x,0),stock_prices[:,-1]-K))  # 到期日价值\n",
    "    for i in range(steps-1,-1,-1):\n",
    "        for j in range(0,i+1):\n",
    "            discount_value = np.exp(-(r-q)*t)*(P*option_prices[j,i+1]+(1-P)*option_prices[j+1,i+1])\n",
    "            current_value  = max(0,stock_prices[j][i]-K)\n",
    "            option_prices[j][i] = max(discount_value,current_value)\n",
    "    print('期权二叉树:')\n",
    "    print(option_prices)\n",
    "    print('根据%d期二叉树模型确定的美式看涨期权价格为%.2f'%(steps,option_prices[0][0]))"
   ]
  },
  {
   "cell_type": "code",
   "execution_count": null,
   "metadata": {},
   "outputs": [],
   "source": [
    "binarytree_Americancall(S,K,r,T,sigma=None,q=0,steps=2,ud=None)"
   ]
  },
  {
   "cell_type": "code",
   "execution_count": 41,
   "metadata": {},
   "outputs": [],
   "source": [
    "def binarytree_Americanput(S,K,r,T,sigma=None,q=0,steps=2,ud=None):\n",
    "\n",
    "    '''\n",
    "    S:标的资产初始价格;\n",
    "    K:期权的执行价格;\n",
    "    r:年化无风险利率;\n",
    "    q:连续分红的红利率,默认不分红;\n",
    "    sigma:标的资产连续复利收益率的标准差;\n",
    "    T:以年表示的时间长度;\n",
    "    steps:二叉树的步长\n",
    "    '''\n",
    "    t = T/steps   # 每一步的期间长度\n",
    "    if ud == None:\n",
    "        u = np.exp(sigma*np.sqrt(t))  # 上行乘数\n",
    "        d = 1/u  # 下行乘数\n",
    "    else:\n",
    "        u = ud[0]\n",
    "        d = ud[1]\n",
    "    P = (np.exp((r-q)*t)-d)/(u-d)  # 股价上行的风险中性概率\n",
    "    print('风险中性概率为:',P)\n",
    "    stock_prices = np.zeros(shape=(steps+1,steps+1)) # 生成最后一列的股票价格空数组\n",
    "    stock_prices[0][0] = S\n",
    "    for i in range(1,steps+1):\n",
    "        for j in range(0,i+1):\n",
    "            stock_prices[j][i] = S*pow(u,i-j)*pow(d,j)\n",
    "    print('股价二叉树:')\n",
    "    print(stock_prices)\n",
    "    option_prices = np.zeros(shape=(steps+1,steps+1))\n",
    "    option_prices[:,-1] = list(map(lambda x:max(x,0),K-stock_prices[:,-1]))  # 到期日价值\n",
    "    for i in range(steps-1,-1,-1):\n",
    "        for j in range(0,i+1):\n",
    "            discount_value = np.exp(-(r-q)*t)*(P*option_prices[j,i+1]+(1-P)*option_prices[j+1,i+1])\n",
    "            current_value  = max(0,K-stock_prices[j][i])\n",
    "            option_prices[j][i] = max(discount_value,current_value)\n",
    "    print('期权二叉树:')\n",
    "    print(option_prices)\n",
    "    print('根据%d期二叉树模型确定的美式看跌期权价格为%.2f'%(steps,option_prices[0][0]))"
   ]
  },
  {
   "cell_type": "code",
   "execution_count": 50,
   "metadata": {},
   "outputs": [
    {
     "name": "stdout",
     "output_type": "stream",
     "text": [
      "风险中性概率为: 0.7136295682334335\n",
      "股价二叉树:\n",
      "[[100.   112.   125.44]\n",
      " [  0.    88.    98.56]\n",
      " [  0.     0.    77.44]]\n",
      "期权二叉树:\n",
      "[[ 5.82171869  1.75428164  0.        ]\n",
      " [ 0.         17.          6.44      ]\n",
      " [ 0.          0.         27.56      ]]\n",
      "根据2期二叉树模型确定的美式看跌期权价格为5.82\n"
     ]
    }
   ],
   "source": [
    "binarytree_Americanput(S=100,K=105,r=0.05,T=2,q=0,steps=2,ud=[1.12,0.88])"
   ]
  },
  {
   "cell_type": "code",
   "execution_count": null,
   "metadata": {},
   "outputs": [],
   "source": []
  }
 ],
 "metadata": {
  "kernelspec": {
   "display_name": "Python 3",
   "language": "python",
   "name": "python3"
  },
  "language_info": {
   "codemirror_mode": {
    "name": "ipython",
    "version": 3
   },
   "file_extension": ".py",
   "mimetype": "text/x-python",
   "name": "python",
   "nbconvert_exporter": "python",
   "pygments_lexer": "ipython3",
   "version": "3.7.4"
  }
 },
 "nbformat": 4,
 "nbformat_minor": 2
}
